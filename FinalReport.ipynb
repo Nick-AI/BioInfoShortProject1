{
 "cells": [
  {
   "cell_type": "markdown",
   "metadata": {},
   "source": [
    "# Short Project 1 Final Report\n",
    "### Kaitlyn Jacobs, Paolo Marra-Biggs, Nick Glaser\n",
    "## Q1:\n",
    "We chose the bacteria Saccharomyces cerevisiae, brewer’s yeast, because I was enjoying a cold one when picking the bacteria.  It’s a highly occurring bacterium not only in baking and brewing, but also in the functioning of the gut.  We found a collection of mutations to align to the genome that was sequenced on an Illumina HiSeq X Ten.\n",
    "## Q2:\n",
    "[Full Reference Genome](https://www.ncbi.nlm.nih.gov/genome/15?genome_assembly_id=22535)\n",
    "\n",
    "[SRA Database Source](https://www.ncbi.nlm.nih.gov/sra/SRX6900124[accn])\n",
    "\n",
    "## Q3:\n",
    "We chose to use BWA and Bowtie2 as our aligners, and the index/mem (BWA) parameter space.  BWA gave us a 93% match rate while Bowtie matched at 94%.  For BWA the modified parameters are able to change the minimum seed length (mem -k), band width (mem -w), penalties for gaps or mismatches (mem -B, -O), as well as many other facets of these parameters. \n",
    "Bowtie shares many similar parameters, both for building the index and the matching algorithm. For our best performance, we created a small index and ran the aligner with the with the --sensitive preset option. We found these preset options (4 total: very-fast, fast, sensitive, very-sensitive) a helpful addition to the aligner as it allowed for easy modification of the algorithm without having to tune each individual parameter.\n",
    "\n",
    "## Q4:\n",
    "Code at the bottom. For full table, check the gc_read_table.txt file. Due to the size of our genome, including the full table here was not possible. \n",
    "\n",
    "## Q5:\n",
    "Using Tablet, there seemed to be negligible spikes in reads that start in G/C rich areas.\n",
    "\n",
    "## Q6:\n",
    "We simply calculated the Pearson coefficient and coefficient of determination for the entire genome. Additionally, we calculated the Pearson coefficient for each individual chromosome. \n",
    "Overall there seems to be little correlation between GC-content and read-counts over the entire genome. The global r2 score is at -0.0599 and the global pearson coefficient is at -0.0596. However, there are chromosomes that show more correlation than that. For a detailed more detailed exploration, refer to Figure 1 (below). \n",
    "These results are all gathered on the data aligned with bowtie2. \n",
    "\n",
    "![Figure1](./gc_coverage_plot.jpg \"Figure 1\")\n",
    "\n",
    "\n",
    "## Q7:"
   ]
  },
  {
   "cell_type": "markdown",
   "metadata": {},
   "source": [
    "# Appendix1: Code"
   ]
  },
  {
   "cell_type": "code",
   "execution_count": 1,
   "metadata": {},
   "outputs": [],
   "source": [
    "import re\n",
    "import numpy as np\n",
    "import matplotlib.pyplot as plt\n",
    "from scipy.stats import pearsonr\n",
    "from sklearn.metrics import r2_score\n",
    "from tqdm import tqdm_notebook as tqdm"
   ]
  },
  {
   "cell_type": "markdown",
   "metadata": {},
   "source": [
    "### Q6:"
   ]
  },
  {
   "cell_type": "code",
   "execution_count": 2,
   "metadata": {},
   "outputs": [],
   "source": [
    "def _count_read_starts(alignment_file):\n",
    "    read_counts = {}\n",
    "    \n",
    "    with open(alignment_file, 'r') as reads:\n",
    "        for line in tqdm(reads, desc='Read Coverage'):\n",
    "            # ignores first few lines:\n",
    "            if not line.startswith('@'):\n",
    "                fields = line.split('\\t')  # parses SAM format columns\n",
    "                cigar = fields[5]  # sixth field/column contains cigar string\n",
    "                chromosome = fields[2]  # what chromosome the read is aligned to\n",
    "                \n",
    "                # if this is the first occurence on this genome, create a table\n",
    "                if not chromosome in read_counts.keys() and chromosome != '*':  \n",
    "                    read_counts[chromosome] = {}\n",
    "                    \n",
    "                if cigar == '151M' and chromosome != '*':  # only for perfect alignment\n",
    "                    r_start = int(fields[3])-1  # 4th field contains 1- based leftmost mapping position\n",
    "                    if r_start>0:  # if POS column is 0, read is not mapped\n",
    "                        try:\n",
    "                            read_counts[chromosome][r_start//100] += 1  \n",
    "                        except Exception:\n",
    "                            read_counts[chromosome][r_start//100] = 1  # creates table if this is first read on this segment\n",
    "\n",
    "    return read_counts\n",
    "\n",
    "def _parse_genome(g_file):\n",
    "    chromosomes = {}\n",
    "    seg_string = ''\n",
    "    s_idx = -1\n",
    "\n",
    "    with open(g_file, 'r') as genome:\n",
    "        for line in tqdm(genome, desc='GC Content'):\n",
    "            if line.startswith('>'):        \n",
    "                if len(seg_string)>0:\n",
    "                    s_idx += 1\n",
    "                    chromosomes[c_temp][s_idx] = _count_helper(seg_string)\n",
    "                c_temp = line.split(' ')[0].replace('>', '')\n",
    "                chromosomes[c_temp] = {}\n",
    "                s_idx = -1\n",
    "                \n",
    "            if not line.startswith('>'):\n",
    "                seg_string += line.strip()\n",
    "                if len(seg_string)>100:\n",
    "                    s_idx += 1\n",
    "                    chromosomes[c_temp][s_idx] = _count_helper(seg_string[:100])\n",
    "                    seg_string = seg_string[100:]\n",
    "        \n",
    "    return chromosomes    \n",
    "\n",
    "def _count_helper(segment):\n",
    "    # used to calculate GC content for given base string\n",
    "    segment = segment.lower()\n",
    "    counts = {'a':0,\n",
    "              't':0,\n",
    "              'c':0,\n",
    "              'g':0}\n",
    "    for letter in segment:\n",
    "        counts[letter] += 1\n",
    "        \n",
    "    return (counts['c']+counts['g'])/sum(counts.values())  # sum(G+C) / sum(A+C+T+G)\n",
    "\n",
    "def get_corr_scores(sam_file, genome_file, return_dicts=True, plot_name=None):\n",
    "    # to plot the results and save them, specify plot name\n",
    "    read_counts = _count_read_starts(sam_file)  \n",
    "    gc_contents = _parse_genome(genome_file)\n",
    "    x = []\n",
    "    y = []\n",
    "    pearson_vals = []\n",
    "\n",
    "    tmpx = []\n",
    "    tmpy = []\n",
    "\n",
    "    loc_table = {}\n",
    "    chrom_idx = {}\n",
    "\n",
    "    cum_seg = 0\n",
    "\n",
    "    for c_idx, chrom in enumerate(gc_contents.keys()):  # iterate over chromosomes\n",
    "        for s_idx, seg in enumerate(gc_contents[chrom].keys()):  # iterate over 100-base segments in chromosome\n",
    "            if s_idx == 0:\n",
    "                chrom_idx[chrom] = cum_seg\n",
    "            if s_idx == len(gc_contents[chrom].keys()):\n",
    "                cum_seg += seg\n",
    "            tmpx.append(gc_contents[chrom][seg])  \n",
    "            x.append(gc_contents[chrom][seg])\n",
    "            try:\n",
    "                tmpy.append(read_counts[chrom][seg])\n",
    "                y.append(read_counts[chrom][seg])\n",
    "                loc_table[cum_seg] = [gc_contents[chrom][seg], read_counts[chrom][seg]] \n",
    "            except Exception as e:\n",
    "                assert isinstance(e, KeyError)\n",
    "                tmpy.append(0)\n",
    "                y.append(0)\n",
    "                loc_table[cum_seg] = [gc_contents[chrom][seg], 0] \n",
    "            cum_seg += 1\n",
    "    #     print(chrom)\n",
    "    #     print(pearsonr(tmpy,tmpx))\n",
    "        pearson_vals.append(pearsonr(tmpy,tmpx)[0])\n",
    "    #     plt.scatter(x,y)\n",
    "    #     plt.show()\n",
    "        tmpx = []\n",
    "        tmpy = []\n",
    "    # print(cum_seg)\n",
    "    # print(chrom_idx)\n",
    "    x = np.array(x)  # gc proportion  \n",
    "    y = np.array(y)  # coverage\n",
    "    \n",
    "    print('Global r2 score:\\t\\t',r2_score(y, x))\n",
    "    print('Global person coefficient:\\t',pearsonr(x,y)[0])\n",
    "    \n",
    "    if plot_name is not None:\n",
    "        fig, ax1 = plt.subplots(figsize=(20,15))\n",
    "        gen_locs = np.array([loc for loc in loc_table.keys()])\n",
    "        cont_read_array = np.array([np.array(val) for val in loc_table.values()])\n",
    "        gc_conts = cont_read_array[:,0]\n",
    "        read_cov = cont_read_array[:,1]\n",
    "\n",
    "        ax2c = 'darkgrey'\n",
    "        ax1.vlines(chrom_idx.values(), ymin=0, ymax=np.max(read_cov), color=ax2c, alpha=0.5)\n",
    "\n",
    "        for idx, item in enumerate(chrom_idx.items()):\n",
    "            ax1.text(item[1]+400, 5000, f'{item[0]}', rotation=90, \n",
    "                     verticalalignment='center', color=ax2c)\n",
    "\n",
    "        im = ax1.scatter(x=gen_locs, y=read_cov, c=gc_conts, cmap='YlOrRd', s=5, alpha=0.95)\n",
    "        ax1.set_xlabel('Location on the genome (100-base steps)')\n",
    "        ax1.set_ylabel('Read Coverage')\n",
    "\n",
    "        ax2 = ax1.twinx()\n",
    "        ax2.set_ylabel('Pearson Coefficient', color=ax2c)\n",
    "        ax2.plot([v for v in chrom_idx.values()], pearson_vals, color=ax2c)\n",
    "        ax2.set_ylim([None,1])\n",
    "        ax2.tick_params(axis='y', labelcolor=ax2c)\n",
    "\n",
    "        cbar = fig.colorbar(im, orientation='horizontal')\n",
    "        cbar.set_label('GC Content')\n",
    "        plt.savefig('./gc_coverage_plot.jpg', dpi=400, bbox_inches='tight')\n",
    "        plt.show()\n",
    "    if return_dicts:\n",
    "        return [read_counts, gc_contents]"
   ]
  },
  {
   "cell_type": "code",
   "execution_count": 3,
   "metadata": {},
   "outputs": [
    {
     "data": {
      "application/vnd.jupyter.widget-view+json": {
       "model_id": "52c387470fba4ea5b6bd38ec8f0797c5",
       "version_major": 2,
       "version_minor": 0
      },
      "text/plain": [
       "HBox(children=(IntProgress(value=1, bar_style='info', description='Read Coverage', max=1, style=ProgressStyle(…"
      ]
     },
     "metadata": {},
     "output_type": "display_data"
    },
    {
     "name": "stdout",
     "output_type": "stream",
     "text": [
      "\n"
     ]
    },
    {
     "data": {
      "application/vnd.jupyter.widget-view+json": {
       "model_id": "72e9224985194c3794a64d4f45434f5c",
       "version_major": 2,
       "version_minor": 0
      },
      "text/plain": [
       "HBox(children=(IntProgress(value=1, bar_style='info', description='GC Content', max=1, style=ProgressStyle(des…"
      ]
     },
     "metadata": {},
     "output_type": "display_data"
    },
    {
     "name": "stdout",
     "output_type": "stream",
     "text": [
      "\n",
      "Global r2 score:\t\t -0.059946737754323465\n",
      "Global person coefficient:\t -0.05958676949785895\n"
     ]
    }
   ],
   "source": [
    "read_counts, gc_contents = get_corr_scores('./data/bowtie2_read_aligns_1.sam', './data/GCF_000146045.2_R64_genomic.fna')"
   ]
  },
  {
   "cell_type": "markdown",
   "metadata": {},
   "source": [
    "### Q4:"
   ]
  },
  {
   "cell_type": "code",
   "execution_count": 8,
   "metadata": {},
   "outputs": [],
   "source": [
    "col1 = 'Chromosome - window number'\n",
    "col2 = 'Position on chromosome'\n",
    "col3 = 'Number of reads starting in the window'\n",
    "col4 = 'GC Content'\n",
    "\n",
    "with open('./gc_read_table.txt', 'w') as out_table:\n",
    "    template = f'{col1:<26}\\t{col2:<22}\\t{col3:<38}\\t{col4:<10}\\n'\n",
    "    out_table.write(template)\n",
    "    for c_idx, chrom in enumerate(gc_contents.keys()):  # iterate over chromosomes\n",
    "        for s_idx, seg in enumerate(gc_contents[chrom].keys()):  # iterate over 100-base segments in chromosome\n",
    "            if not s_idx==len(gc_contents[chrom].keys()):\n",
    "                col1 = f'{chrom} - {seg}'\n",
    "                col2 = f'{seg*100} - {(seg+1)*100}'\n",
    "                try:\n",
    "                    col3 = f'{read_counts[chrom][seg]}'\n",
    "                except Exception as e:\n",
    "                    assert isinstance(e, KeyError)\n",
    "                    col3 = '0'\n",
    "                col4 = f'{gc_contents[chrom][seg]*100}%'\n",
    "                template = f'{col1:<26}\\t{col2:<22}\\t{col3:<38}\\t{col4:<11}\\n'\n",
    "                out_table.write(template)\n",
    "            else:\n",
    "                col1 = f'{chrom} - {seg}'\n",
    "                col2 = f'{seg*100} - end'\n",
    "                try:\n",
    "                    col3 = f'{read_counts[chrom][seg]}'\n",
    "                except Exception as e:\n",
    "                    assert isinstance(e, KeyError)\n",
    "                    col3 = '0'\n",
    "                col4 = f'{gc_contents[chrom][seg]*100}%'\n",
    "                template = f'{col1:<26}\\t{col2:<22}\\t{col3:<38}\\t{col4:<11}\\n'\n",
    "                out_table.write(template)"
   ]
  }
 ],
 "metadata": {
  "kernelspec": {
   "display_name": "Python 3",
   "language": "python",
   "name": "python3"
  },
  "language_info": {
   "codemirror_mode": {
    "name": "ipython",
    "version": 3
   },
   "file_extension": ".py",
   "mimetype": "text/x-python",
   "name": "python",
   "nbconvert_exporter": "python",
   "pygments_lexer": "ipython3",
   "version": "3.7.4"
  }
 },
 "nbformat": 4,
 "nbformat_minor": 2
}
